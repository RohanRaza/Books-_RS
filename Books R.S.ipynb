{
 "cells": [
  {
   "cell_type": "code",
   "execution_count": 1,
   "id": "a8224b1b",
   "metadata": {},
   "outputs": [],
   "source": [
    "import pandas as pd\n",
    "import numpy as np\n",
    "from sklearn.feature_extraction.text import CountVectorizer\n",
    "import nltk\n",
    "from nltk.stem.porter import PorterStemmer\n",
    "from sklearn.metrics.pairwise import cosine_similarity"
   ]
  },
  {
   "cell_type": "code",
   "execution_count": 2,
   "id": "f385e44b",
   "metadata": {
    "scrolled": true
   },
   "outputs": [
    {
     "data": {
      "text/html": [
       "<div>\n",
       "<style scoped>\n",
       "    .dataframe tbody tr th:only-of-type {\n",
       "        vertical-align: middle;\n",
       "    }\n",
       "\n",
       "    .dataframe tbody tr th {\n",
       "        vertical-align: top;\n",
       "    }\n",
       "\n",
       "    .dataframe thead th {\n",
       "        text-align: right;\n",
       "    }\n",
       "</style>\n",
       "<table border=\"1\" class=\"dataframe\">\n",
       "  <thead>\n",
       "    <tr style=\"text-align: right;\">\n",
       "      <th></th>\n",
       "      <th>asin</th>\n",
       "      <th>title</th>\n",
       "      <th>author</th>\n",
       "      <th>soldBy</th>\n",
       "      <th>imgUrl</th>\n",
       "      <th>productURL</th>\n",
       "      <th>stars</th>\n",
       "      <th>reviews</th>\n",
       "      <th>price</th>\n",
       "      <th>isKindleUnlimited</th>\n",
       "      <th>category_id</th>\n",
       "      <th>isBestSeller</th>\n",
       "      <th>isEditorsPick</th>\n",
       "      <th>isGoodReadsChoice</th>\n",
       "      <th>publishedDate</th>\n",
       "      <th>category_name</th>\n",
       "    </tr>\n",
       "  </thead>\n",
       "  <tbody>\n",
       "    <tr>\n",
       "      <th>0</th>\n",
       "      <td>B00TZE87S4</td>\n",
       "      <td>Adult Children of Emotionally Immature Parents...</td>\n",
       "      <td>Lindsay C. Gibson</td>\n",
       "      <td>Amazon.com Services LLC</td>\n",
       "      <td>https://m.media-amazon.com/images/I/713KZTsaYp...</td>\n",
       "      <td>https://www.amazon.com/dp/B00TZE87S4</td>\n",
       "      <td>4.8</td>\n",
       "      <td>0</td>\n",
       "      <td>9.99</td>\n",
       "      <td>False</td>\n",
       "      <td>6</td>\n",
       "      <td>True</td>\n",
       "      <td>False</td>\n",
       "      <td>False</td>\n",
       "      <td>2015-06-01</td>\n",
       "      <td>Parenting &amp; Relationships</td>\n",
       "    </tr>\n",
       "    <tr>\n",
       "      <th>1</th>\n",
       "      <td>B08WCKY8MB</td>\n",
       "      <td>From Strength to Strength: Finding Success, Ha...</td>\n",
       "      <td>Arthur C. Brooks</td>\n",
       "      <td>Penguin Group (USA) LLC</td>\n",
       "      <td>https://m.media-amazon.com/images/I/A1LZcJFs9E...</td>\n",
       "      <td>https://www.amazon.com/dp/B08WCKY8MB</td>\n",
       "      <td>4.4</td>\n",
       "      <td>0</td>\n",
       "      <td>16.99</td>\n",
       "      <td>False</td>\n",
       "      <td>6</td>\n",
       "      <td>False</td>\n",
       "      <td>False</td>\n",
       "      <td>False</td>\n",
       "      <td>2022-02-15</td>\n",
       "      <td>Parenting &amp; Relationships</td>\n",
       "    </tr>\n",
       "    <tr>\n",
       "      <th>2</th>\n",
       "      <td>B09KPS84CJ</td>\n",
       "      <td>Good Inside: A Guide to Becoming the Parent Yo...</td>\n",
       "      <td>Becky Kennedy</td>\n",
       "      <td>HarperCollins Publishers</td>\n",
       "      <td>https://m.media-amazon.com/images/I/71RIWM0sv6...</td>\n",
       "      <td>https://www.amazon.com/dp/B09KPS84CJ</td>\n",
       "      <td>4.8</td>\n",
       "      <td>0</td>\n",
       "      <td>16.99</td>\n",
       "      <td>False</td>\n",
       "      <td>6</td>\n",
       "      <td>False</td>\n",
       "      <td>True</td>\n",
       "      <td>False</td>\n",
       "      <td>2022-09-13</td>\n",
       "      <td>Parenting &amp; Relationships</td>\n",
       "    </tr>\n",
       "    <tr>\n",
       "      <th>3</th>\n",
       "      <td>B07S7QPG6J</td>\n",
       "      <td>Everything I Know About Love: A Memoir</td>\n",
       "      <td>Dolly Alderton</td>\n",
       "      <td>HarperCollins Publishers</td>\n",
       "      <td>https://m.media-amazon.com/images/I/71QdQpTiKZ...</td>\n",
       "      <td>https://www.amazon.com/dp/B07S7QPG6J</td>\n",
       "      <td>4.2</td>\n",
       "      <td>0</td>\n",
       "      <td>9.95</td>\n",
       "      <td>True</td>\n",
       "      <td>6</td>\n",
       "      <td>False</td>\n",
       "      <td>True</td>\n",
       "      <td>False</td>\n",
       "      <td>2020-02-25</td>\n",
       "      <td>Parenting &amp; Relationships</td>\n",
       "    </tr>\n",
       "    <tr>\n",
       "      <th>4</th>\n",
       "      <td>B00N6PEQV0</td>\n",
       "      <td>The Seven Principles for Making Marriage Work:...</td>\n",
       "      <td>John Gottman</td>\n",
       "      <td>Random House LLC</td>\n",
       "      <td>https://m.media-amazon.com/images/I/813o4WOs+w...</td>\n",
       "      <td>https://www.amazon.com/dp/B00N6PEQV0</td>\n",
       "      <td>4.7</td>\n",
       "      <td>0</td>\n",
       "      <td>13.99</td>\n",
       "      <td>False</td>\n",
       "      <td>6</td>\n",
       "      <td>False</td>\n",
       "      <td>False</td>\n",
       "      <td>False</td>\n",
       "      <td>2015-05-05</td>\n",
       "      <td>Parenting &amp; Relationships</td>\n",
       "    </tr>\n",
       "  </tbody>\n",
       "</table>\n",
       "</div>"
      ],
      "text/plain": [
       "         asin                                              title  \\\n",
       "0  B00TZE87S4  Adult Children of Emotionally Immature Parents...   \n",
       "1  B08WCKY8MB  From Strength to Strength: Finding Success, Ha...   \n",
       "2  B09KPS84CJ  Good Inside: A Guide to Becoming the Parent Yo...   \n",
       "3  B07S7QPG6J             Everything I Know About Love: A Memoir   \n",
       "4  B00N6PEQV0  The Seven Principles for Making Marriage Work:...   \n",
       "\n",
       "              author                    soldBy  \\\n",
       "0  Lindsay C. Gibson   Amazon.com Services LLC   \n",
       "1   Arthur C. Brooks   Penguin Group (USA) LLC   \n",
       "2      Becky Kennedy  HarperCollins Publishers   \n",
       "3     Dolly Alderton  HarperCollins Publishers   \n",
       "4       John Gottman          Random House LLC   \n",
       "\n",
       "                                              imgUrl  \\\n",
       "0  https://m.media-amazon.com/images/I/713KZTsaYp...   \n",
       "1  https://m.media-amazon.com/images/I/A1LZcJFs9E...   \n",
       "2  https://m.media-amazon.com/images/I/71RIWM0sv6...   \n",
       "3  https://m.media-amazon.com/images/I/71QdQpTiKZ...   \n",
       "4  https://m.media-amazon.com/images/I/813o4WOs+w...   \n",
       "\n",
       "                             productURL  stars  reviews  price  \\\n",
       "0  https://www.amazon.com/dp/B00TZE87S4    4.8        0   9.99   \n",
       "1  https://www.amazon.com/dp/B08WCKY8MB    4.4        0  16.99   \n",
       "2  https://www.amazon.com/dp/B09KPS84CJ    4.8        0  16.99   \n",
       "3  https://www.amazon.com/dp/B07S7QPG6J    4.2        0   9.95   \n",
       "4  https://www.amazon.com/dp/B00N6PEQV0    4.7        0  13.99   \n",
       "\n",
       "   isKindleUnlimited  category_id  isBestSeller  isEditorsPick  \\\n",
       "0              False            6          True          False   \n",
       "1              False            6         False          False   \n",
       "2              False            6         False           True   \n",
       "3               True            6         False           True   \n",
       "4              False            6         False          False   \n",
       "\n",
       "   isGoodReadsChoice publishedDate              category_name  \n",
       "0              False    2015-06-01  Parenting & Relationships  \n",
       "1              False    2022-02-15  Parenting & Relationships  \n",
       "2              False    2022-09-13  Parenting & Relationships  \n",
       "3              False    2020-02-25  Parenting & Relationships  \n",
       "4              False    2015-05-05  Parenting & Relationships  "
      ]
     },
     "execution_count": 2,
     "metadata": {},
     "output_type": "execute_result"
    }
   ],
   "source": [
    "df = pd.read_csv(\"kindle_data-v2.csv\")\n",
    "df.head()"
   ]
  },
  {
   "cell_type": "code",
   "execution_count": 3,
   "id": "f5b37d6e",
   "metadata": {},
   "outputs": [],
   "source": [
    "df.dropna(inplace=True)"
   ]
  },
  {
   "cell_type": "code",
   "execution_count": 4,
   "id": "8156e59c",
   "metadata": {
    "scrolled": true
   },
   "outputs": [
    {
     "data": {
      "text/plain": [
       "0         Lindsay C. GibsonAmazon.com Services LLCParent...\n",
       "1         Arthur C. BrooksPenguin Group (USA) LLCParenti...\n",
       "2         Becky KennedyHarperCollins PublishersParenting...\n",
       "3         Dolly AldertonHarperCollins PublishersParentin...\n",
       "4         John GottmanRandom House LLCParenting & Relati...\n",
       "                                ...                        \n",
       "133097                       Leo TolstoyDe MarqueNonfiction\n",
       "133098           Mo GawdatAmazon.com Services LLCNonfiction\n",
       "133099                   Alexandre DumasDe MarqueNonfiction\n",
       "133100                       Leo TolstoyDe MarqueNonfiction\n",
       "133101                       Jane AustenDe MarqueNonfiction\n",
       "Name: tags, Length: 77800, dtype: object"
      ]
     },
     "execution_count": 4,
     "metadata": {},
     "output_type": "execute_result"
    }
   ],
   "source": [
    "df['tags'] = df['author']+df['soldBy']+df['category_name']\n",
    "df['tags']"
   ]
  },
  {
   "cell_type": "code",
   "execution_count": 5,
   "id": "bb02c9f7",
   "metadata": {
    "scrolled": true
   },
   "outputs": [
    {
     "name": "stderr",
     "output_type": "stream",
     "text": [
      "C:\\Users\\rohan.raza\\AppData\\Local\\Temp\\ipykernel_4148\\379058007.py:1: FutureWarning: The default value of regex will change from True to False in a future version. In addition, single character regular expressions will *not* be treated as literal strings when regex=True.\n",
      "  df['tags'] = df['tags'].str.replace(\"(\",\"\").str.replace(\")\",\"\").str.replace(\"[\",\"\").str.replace(\".\",\"\").str.replace(\"]\",\"\").str.replace(\",\",\"\").str.replace(\"|\",\"\").str.lower()\n"
     ]
    }
   ],
   "source": [
    "df['tags'] = df['tags'].str.replace(\"(\",\"\").str.replace(\")\",\"\").str.replace(\"[\",\"\").str.replace(\".\",\"\").str.replace(\"]\",\"\").str.replace(\",\",\"\").str.replace(\"|\",\"\").str.lower()"
   ]
  },
  {
   "cell_type": "code",
   "execution_count": 6,
   "id": "c71a1cf5",
   "metadata": {},
   "outputs": [
    {
     "data": {
      "text/plain": [
       "0         lindsay c gibsonamazoncom services llcparentin...\n",
       "1         arthur c brookspenguin group usa llcparenting ...\n",
       "2         becky kennedyharpercollins publishersparenting...\n",
       "3         dolly aldertonharpercollins publishersparentin...\n",
       "4         john gottmanrandom house llcparenting & relati...\n",
       "                                ...                        \n",
       "133097                       leo tolstoyde marquenonfiction\n",
       "133098            mo gawdatamazoncom services llcnonfiction\n",
       "133099                   alexandre dumasde marquenonfiction\n",
       "133100                       leo tolstoyde marquenonfiction\n",
       "133101                       jane austende marquenonfiction\n",
       "Name: tags, Length: 77800, dtype: object"
      ]
     },
     "execution_count": 6,
     "metadata": {},
     "output_type": "execute_result"
    }
   ],
   "source": [
    "df['tags']"
   ]
  },
  {
   "cell_type": "code",
   "execution_count": 7,
   "id": "03fe4fa7",
   "metadata": {},
   "outputs": [
    {
     "data": {
      "text/html": [
       "<div>\n",
       "<style scoped>\n",
       "    .dataframe tbody tr th:only-of-type {\n",
       "        vertical-align: middle;\n",
       "    }\n",
       "\n",
       "    .dataframe tbody tr th {\n",
       "        vertical-align: top;\n",
       "    }\n",
       "\n",
       "    .dataframe thead th {\n",
       "        text-align: right;\n",
       "    }\n",
       "</style>\n",
       "<table border=\"1\" class=\"dataframe\">\n",
       "  <thead>\n",
       "    <tr style=\"text-align: right;\">\n",
       "      <th></th>\n",
       "      <th>title</th>\n",
       "      <th>tags</th>\n",
       "    </tr>\n",
       "  </thead>\n",
       "  <tbody>\n",
       "    <tr>\n",
       "      <th>0</th>\n",
       "      <td>Adult Children of Emotionally Immature Parents...</td>\n",
       "      <td>lindsay c gibsonamazoncom services llcparentin...</td>\n",
       "    </tr>\n",
       "    <tr>\n",
       "      <th>1</th>\n",
       "      <td>From Strength to Strength: Finding Success, Ha...</td>\n",
       "      <td>arthur c brookspenguin group usa llcparenting ...</td>\n",
       "    </tr>\n",
       "    <tr>\n",
       "      <th>2</th>\n",
       "      <td>Good Inside: A Guide to Becoming the Parent Yo...</td>\n",
       "      <td>becky kennedyharpercollins publishersparenting...</td>\n",
       "    </tr>\n",
       "    <tr>\n",
       "      <th>3</th>\n",
       "      <td>Everything I Know About Love: A Memoir</td>\n",
       "      <td>dolly aldertonharpercollins publishersparentin...</td>\n",
       "    </tr>\n",
       "    <tr>\n",
       "      <th>4</th>\n",
       "      <td>The Seven Principles for Making Marriage Work:...</td>\n",
       "      <td>john gottmanrandom house llcparenting &amp; relati...</td>\n",
       "    </tr>\n",
       "  </tbody>\n",
       "</table>\n",
       "</div>"
      ],
      "text/plain": [
       "                                               title  \\\n",
       "0  Adult Children of Emotionally Immature Parents...   \n",
       "1  From Strength to Strength: Finding Success, Ha...   \n",
       "2  Good Inside: A Guide to Becoming the Parent Yo...   \n",
       "3             Everything I Know About Love: A Memoir   \n",
       "4  The Seven Principles for Making Marriage Work:...   \n",
       "\n",
       "                                                tags  \n",
       "0  lindsay c gibsonamazoncom services llcparentin...  \n",
       "1  arthur c brookspenguin group usa llcparenting ...  \n",
       "2  becky kennedyharpercollins publishersparenting...  \n",
       "3  dolly aldertonharpercollins publishersparentin...  \n",
       "4  john gottmanrandom house llcparenting & relati...  "
      ]
     },
     "execution_count": 7,
     "metadata": {},
     "output_type": "execute_result"
    }
   ],
   "source": [
    "data = df[['title','tags']]\n",
    "data.head()"
   ]
  },
  {
   "cell_type": "markdown",
   "id": "e84bd3a0",
   "metadata": {},
   "source": [
    "## Text Vectorization"
   ]
  },
  {
   "cell_type": "code",
   "execution_count": 8,
   "id": "ce6ff918",
   "metadata": {},
   "outputs": [],
   "source": [
    "cv = CountVectorizer(max_features = 500, stop_words = 'english')"
   ]
  },
  {
   "cell_type": "code",
   "execution_count": 9,
   "id": "44dcfd0c",
   "metadata": {},
   "outputs": [
    {
     "data": {
      "text/plain": [
       "<77800x500 sparse matrix of type '<class 'numpy.int64'>'\n",
       "\twith 295219 stored elements in Compressed Sparse Row format>"
      ]
     },
     "execution_count": 9,
     "metadata": {},
     "output_type": "execute_result"
    }
   ],
   "source": [
    "vector = cv.fit_transform(data['tags'])\n",
    "vector"
   ]
  },
  {
   "cell_type": "code",
   "execution_count": 10,
   "id": "24b03519",
   "metadata": {},
   "outputs": [
    {
     "data": {
      "text/plain": [
       "array([[0, 0, 0, ..., 0, 0, 0],\n",
       "       [0, 0, 0, ..., 0, 0, 0],\n",
       "       [0, 0, 0, ..., 0, 0, 0],\n",
       "       ...,\n",
       "       [0, 0, 0, ..., 0, 0, 0],\n",
       "       [0, 0, 0, ..., 0, 0, 0],\n",
       "       [0, 0, 0, ..., 0, 0, 0]], dtype=int64)"
      ]
     },
     "execution_count": 10,
     "metadata": {},
     "output_type": "execute_result"
    }
   ],
   "source": [
    "vector = vector.toarray()\n",
    "vector"
   ]
  },
  {
   "cell_type": "markdown",
   "id": "77564df1",
   "metadata": {},
   "source": [
    "### checking stop_words"
   ]
  },
  {
   "cell_type": "code",
   "execution_count": 11,
   "id": "caf0fe49",
   "metadata": {
    "scrolled": true
   },
   "outputs": [
    {
     "name": "stdout",
     "output_type": "stream",
     "text": [
      "frozenset({'latterly', 'go', 'will', 'might', 'inc', 'fifteen', 'show', 'fill', 'hasnt', 'next', 'whereafter', 'each', 'when', 'across', 'therefore', 'what', 'alone', 'ltd', 'until', 'by', 'whose', 'more', 'describe', 'former', 'together', 'via', 'fire', 'am', 'must', 'three', 'well', 'afterwards', 'behind', 'noone', 'nine', 'thru', 'enough', 'those', 'done', 'whole', 'our', 'ourselves', 'between', 'such', 'one', 'find', 'why', 'several', 'off', 'nowhere', 'sixty', 'to', 'ie', 'thereupon', 'hereupon', 'up', 'has', 'yours', 'couldnt', 'formerly', 'out', 'almost', 'fifty', 'can', 'made', 'herein', 'give', 'however', 'becomes', 'me', 'ever', 'their', 'of', 'first', 'who', 'an', 'nor', 'eg', 'top', 'further', 'should', 'seems', 'thin', 'this', 'through', 'i', 'onto', 'where', 'hundred', 'hers', 'etc', 'would', 'namely', 'none', 'every', 'detail', 'sincere', 'some', 'around', 'system', 'besides', 'forty', 'less', 'was', 'then', 'into', 'please', 'same', 'above', 'last', 'over', 'there', 'de', 'thus', 'although', 'seemed', 'amoungst', 'often', 'too', 'himself', 'but', 'mostly', 'take', 'these', 'everything', 'could', 'put', 'due', 'itself', 'keep', 'call', 'sometimes', 'its', 'if', 'down', 'get', 'along', 'that', 'us', 'whereas', 'few', 'per', 'being', 'during', 'wherever', 'were', 'bill', 'ten', 'still', 'myself', 'the', 'everyone', 'others', 'amongst', 'own', 'much', 'empty', 'most', 'wherein', 'or', 'him', 'un', 'as', 'six', 'thick', 'whoever', 'within', 'again', 'nobody', 'seem', 'whatever', 'mine', 'somehow', 'something', 'without', 'elsewhere', 'they', 'may', 'no', 'whence', 'cry', 'anyhow', 'except', 'amount', 'nothing', 'becoming', 'thereafter', 'anyone', 'interest', 'herself', 'you', 'otherwise', 'and', 'upon', 'in', 'hereby', 'other', 'we', 'throughout', 'seeming', 'anyway', 'sometime', 'how', 'do', 'anything', 'found', 'beforehand', 'anywhere', 'part', 'moreover', 'side', 'at', 'once', 'cannot', 'third', 'beyond', 'neither', 'full', 'many', 'serious', 'my', 'somewhere', 'twenty', 'see', 'whither', 'whom', 'because', 'he', 'cant', 'thence', 'con', 'yourself', 'since', 'your', 'indeed', 'twelve', 'which', 'either', 'five', 'have', 'name', 'front', 'towards', 'become', 're', 'least', 'rather', 'another', 'whereby', 'her', 'whenever', 'under', 'his', 'yourselves', 'are', 'even', 'after', 'four', 'now', 'below', 'beside', 'than', 'all', 'been', 'not', 'for', 'with', 'latter', 'bottom', 'themselves', 'never', 'on', 'only', 'someone', 'hence', 'perhaps', 'though', 'be', 'very', 'it', 'any', 'co', 'here', 'ours', 'else', 'nevertheless', 'against', 'move', 'so', 'is', 'back', 'meanwhile', 'also', 'them', 'among', 'became', 'she', 'a', 'toward', 'therein', 'while', 'mill', 'both', 'whereupon', 'whether', 'thereby', 'yet', 'eight', 'always', 'from', 'two', 'hereafter', 'before', 'about', 'had', 'everywhere', 'eleven', 'already'})\n"
     ]
    }
   ],
   "source": [
    "print(cv.get_stop_words())"
   ]
  },
  {
   "cell_type": "markdown",
   "id": "9622fe0a",
   "metadata": {},
   "source": [
    "### getting features names"
   ]
  },
  {
   "cell_type": "code",
   "execution_count": 12,
   "id": "709cf248",
   "metadata": {},
   "outputs": [
    {
     "data": {
      "text/plain": [
       "['aaron', 'adam', 'adamsamazoncom', 'adult', 'al']"
      ]
     },
     "execution_count": 12,
     "metadata": {},
     "output_type": "execute_result"
    }
   ],
   "source": [
    "list(cv.get_feature_names_out())[:5]"
   ]
  },
  {
   "cell_type": "markdown",
   "id": "bf8498de",
   "metadata": {},
   "source": [
    "### Stemming words"
   ]
  },
  {
   "cell_type": "code",
   "execution_count": 13,
   "id": "1c446aa9",
   "metadata": {},
   "outputs": [],
   "source": [
    "ps = PorterStemmer()"
   ]
  },
  {
   "cell_type": "code",
   "execution_count": 14,
   "id": "7b8db9d2",
   "metadata": {},
   "outputs": [],
   "source": [
    "def stem(txt):\n",
    "    lst = []\n",
    "    for i in txt.split():\n",
    "        lst.append(ps.stem(i))\n",
    "        \n",
    "    return \" \".join(lst)    "
   ]
  },
  {
   "cell_type": "code",
   "execution_count": 15,
   "id": "e86beda0",
   "metadata": {},
   "outputs": [
    {
     "data": {
      "text/plain": [
       "'lindsay c gibsonamazoncom servic llcparent & relationship'"
      ]
     },
     "execution_count": 15,
     "metadata": {},
     "output_type": "execute_result"
    }
   ],
   "source": [
    "stem(data['tags'][0])"
   ]
  },
  {
   "cell_type": "code",
   "execution_count": 16,
   "id": "e87c1597",
   "metadata": {},
   "outputs": [
    {
     "name": "stderr",
     "output_type": "stream",
     "text": [
      "C:\\Users\\rohan.raza\\AppData\\Local\\Temp\\ipykernel_4148\\2997483169.py:1: SettingWithCopyWarning: \n",
      "A value is trying to be set on a copy of a slice from a DataFrame.\n",
      "Try using .loc[row_indexer,col_indexer] = value instead\n",
      "\n",
      "See the caveats in the documentation: https://pandas.pydata.org/pandas-docs/stable/user_guide/indexing.html#returning-a-view-versus-a-copy\n",
      "  data['tags'] = data['tags'].apply(stem)\n"
     ]
    }
   ],
   "source": [
    "data['tags'] = data['tags'].apply(stem)"
   ]
  },
  {
   "cell_type": "code",
   "execution_count": 17,
   "id": "bd8db57e",
   "metadata": {},
   "outputs": [
    {
     "data": {
      "text/html": [
       "<div>\n",
       "<style scoped>\n",
       "    .dataframe tbody tr th:only-of-type {\n",
       "        vertical-align: middle;\n",
       "    }\n",
       "\n",
       "    .dataframe tbody tr th {\n",
       "        vertical-align: top;\n",
       "    }\n",
       "\n",
       "    .dataframe thead th {\n",
       "        text-align: right;\n",
       "    }\n",
       "</style>\n",
       "<table border=\"1\" class=\"dataframe\">\n",
       "  <thead>\n",
       "    <tr style=\"text-align: right;\">\n",
       "      <th></th>\n",
       "      <th>title</th>\n",
       "      <th>tags</th>\n",
       "    </tr>\n",
       "  </thead>\n",
       "  <tbody>\n",
       "    <tr>\n",
       "      <th>0</th>\n",
       "      <td>Adult Children of Emotionally Immature Parents...</td>\n",
       "      <td>lindsay c gibsonamazoncom servic llcparent &amp; r...</td>\n",
       "    </tr>\n",
       "    <tr>\n",
       "      <th>1</th>\n",
       "      <td>From Strength to Strength: Finding Success, Ha...</td>\n",
       "      <td>arthur c brookspenguin group usa llcparent &amp; r...</td>\n",
       "    </tr>\n",
       "  </tbody>\n",
       "</table>\n",
       "</div>"
      ],
      "text/plain": [
       "                                               title  \\\n",
       "0  Adult Children of Emotionally Immature Parents...   \n",
       "1  From Strength to Strength: Finding Success, Ha...   \n",
       "\n",
       "                                                tags  \n",
       "0  lindsay c gibsonamazoncom servic llcparent & r...  \n",
       "1  arthur c brookspenguin group usa llcparent & r...  "
      ]
     },
     "execution_count": 17,
     "metadata": {},
     "output_type": "execute_result"
    }
   ],
   "source": [
    "data.head(2)"
   ]
  },
  {
   "cell_type": "markdown",
   "id": "7238f0f7",
   "metadata": {},
   "source": [
    "## Calculate Vectors"
   ]
  },
  {
   "cell_type": "code",
   "execution_count": 18,
   "id": "f111c9c8",
   "metadata": {},
   "outputs": [],
   "source": [
    "similarity = cosine_similarity(vector[:1000])"
   ]
  },
  {
   "cell_type": "code",
   "execution_count": 19,
   "id": "693e26fa",
   "metadata": {
    "scrolled": true
   },
   "outputs": [
    {
     "data": {
      "text/plain": [
       "array([[1.        , 0.51639778, 0.40824829, ..., 0.57735027, 0.8660254 ,\n",
       "        0.8660254 ],\n",
       "       [0.51639778, 1.        , 0.31622777, ..., 0.4472136 , 0.4472136 ,\n",
       "        0.4472136 ],\n",
       "       [0.40824829, 0.31622777, 1.        , ..., 0.35355339, 0.35355339,\n",
       "        0.35355339],\n",
       "       ...,\n",
       "       [0.57735027, 0.4472136 , 0.35355339, ..., 1.        , 0.5       ,\n",
       "        0.5       ],\n",
       "       [0.8660254 , 0.4472136 , 0.35355339, ..., 0.5       , 1.        ,\n",
       "        0.75      ],\n",
       "       [0.8660254 , 0.4472136 , 0.35355339, ..., 0.5       , 0.75      ,\n",
       "        1.        ]])"
      ]
     },
     "execution_count": 19,
     "metadata": {},
     "output_type": "execute_result"
    }
   ],
   "source": [
    "similarity"
   ]
  },
  {
   "cell_type": "markdown",
   "id": "500db1bd",
   "metadata": {},
   "source": [
    "# Recommendation"
   ]
  },
  {
   "cell_type": "code",
   "execution_count": 20,
   "id": "1ecb9483",
   "metadata": {},
   "outputs": [
    {
     "data": {
      "text/plain": [
       "'From Strength to Strength: Finding Success, Happiness, and Deep Purpose in the Second Half of Life'"
      ]
     },
     "execution_count": 20,
     "metadata": {},
     "output_type": "execute_result"
    }
   ],
   "source": [
    "data['title'][1]"
   ]
  },
  {
   "cell_type": "code",
   "execution_count": 21,
   "id": "08c546d0",
   "metadata": {},
   "outputs": [
    {
     "data": {
      "text/plain": [
       "1"
      ]
     },
     "execution_count": 21,
     "metadata": {},
     "output_type": "execute_result"
    }
   ],
   "source": [
    "book_index = data[data['title']=='From Strength to Strength: Finding Success, Happiness, and Deep Purpose in the Second Half of Life'].index[0]\n",
    "book_index"
   ]
  },
  {
   "cell_type": "markdown",
   "id": "4deabd32",
   "metadata": {},
   "source": [
    "### Checking similarity of index 1 book"
   ]
  },
  {
   "cell_type": "code",
   "execution_count": 22,
   "id": "aaf7e8e3",
   "metadata": {
    "scrolled": true
   },
   "outputs": [
    {
     "data": {
      "text/plain": [
       "array([0.51639778, 1.        , 0.31622777, 0.31622777, 0.4472136 ,\n",
       "       0.2       , 0.8       , 0.51639778, 0.4472136 , 0.31622777,\n",
       "       0.25819889, 0.18257419, 0.4472136 , 0.4472136 , 0.4472136 ,\n",
       "       0.8       , 0.4472136 , 0.18257419, 0.89442719, 0.2       ,\n",
       "       0.2236068 , 0.16903085, 0.89442719, 0.25819889, 0.51639778,\n",
       "       0.51639778, 0.25819889, 0.8       , 0.25819889, 0.4472136 ,\n",
       "       0.4472136 , 0.8       , 0.31622777, 0.89442719, 0.51639778,\n",
       "       0.2       , 0.2236068 , 0.31622777, 0.4472136 , 0.25819889,\n",
       "       0.4472136 , 0.51639778, 0.31622777, 0.4472136 , 0.31622777,\n",
       "       0.4472136 , 0.89442719, 0.25819889, 0.4472136 , 0.4472136 ,\n",
       "       0.25819889, 0.4472136 , 0.2236068 , 0.2236068 , 0.2236068 ,\n",
       "       0.31622777, 0.31622777, 0.31622777, 0.2       , 0.31622777,\n",
       "       0.4472136 , 0.8       , 0.51639778, 0.51639778, 0.89442719,\n",
       "       0.51639778, 0.31622777, 0.4472136 , 0.25819889, 0.25819889,\n",
       "       0.31622777, 0.18257419, 0.2       , 0.31622777, 0.4472136 ,\n",
       "       0.89442719, 0.51639778, 0.2236068 , 0.2236068 , 0.25819889,\n",
       "       0.25819889, 0.4472136 , 0.51639778, 0.4472136 , 0.25819889,\n",
       "       0.31622777, 0.51639778, 0.51639778, 0.31622777, 0.51639778,\n",
       "       0.25819889, 0.25819889, 0.4472136 , 0.4472136 , 0.4       ,\n",
       "       0.31622777, 0.51639778, 0.4472136 , 0.51639778, 0.4472136 ,\n",
       "       0.2236068 , 0.2       , 0.2       , 0.51639778, 0.89442719,\n",
       "       0.18257419, 0.51639778, 0.25819889, 0.4472136 , 0.8       ,\n",
       "       0.31622777, 0.51639778, 0.4       , 0.51639778, 0.18257419,\n",
       "       0.51639778, 0.4472136 , 0.51639778, 0.8       , 0.51639778,\n",
       "       0.8       , 0.31622777, 0.51639778, 0.31622777, 0.4472136 ,\n",
       "       0.4472136 , 0.51639778, 0.51639778, 0.51639778, 0.4472136 ,\n",
       "       0.2236068 , 0.51639778, 0.31622777, 0.25819889, 0.51639778,\n",
       "       0.4472136 , 0.25819889, 0.4472136 , 0.2236068 , 0.4472136 ,\n",
       "       0.4       , 0.4472136 , 0.8       , 0.2236068 , 0.8       ,\n",
       "       0.2       , 0.51639778, 0.31622777, 0.8       , 0.51639778,\n",
       "       0.51639778, 0.25819889, 0.2236068 , 0.2       , 0.51639778,\n",
       "       0.4472136 , 0.89442719, 0.31622777, 0.4472136 , 0.4472136 ,\n",
       "       0.2       , 0.4472136 , 0.51639778, 0.25819889, 0.4472136 ,\n",
       "       0.31622777, 0.4       , 0.25819889, 0.51639778, 0.51639778,\n",
       "       0.4472136 , 0.51639778, 0.51639778, 0.25819889, 0.25819889,\n",
       "       0.51639778, 0.51639778, 0.4472136 , 0.51639778, 0.25819889,\n",
       "       0.4472136 , 0.4472136 , 0.51639778, 0.51639778, 0.4472136 ,\n",
       "       0.51639778, 0.31622777, 0.4       , 0.4472136 , 0.4       ,\n",
       "       0.4472136 , 0.4472136 , 0.51639778, 0.4472136 , 0.25819889,\n",
       "       0.2236068 , 0.51639778, 0.25819889, 0.2236068 , 0.51639778,\n",
       "       0.51639778, 0.51639778, 0.4472136 , 0.4       , 0.51639778,\n",
       "       0.51639778, 0.2236068 , 0.25819889, 0.4472136 , 0.4472136 ,\n",
       "       0.25819889, 0.2236068 , 0.51639778, 0.25819889, 0.4472136 ,\n",
       "       0.25819889, 0.51639778, 0.4472136 , 0.25819889, 0.2       ,\n",
       "       0.18257419, 0.25819889, 0.4472136 , 0.18257419, 0.4       ,\n",
       "       0.2236068 , 0.4472136 , 0.4472136 , 0.4472136 , 0.4472136 ,\n",
       "       0.89442719, 0.18257419, 0.51639778, 0.18257419, 0.4472136 ,\n",
       "       0.2       , 0.51639778, 0.51639778, 0.51639778, 0.8       ,\n",
       "       0.25819889, 0.31622777, 0.18257419, 0.4472136 , 0.4       ,\n",
       "       0.4472136 , 0.4472136 , 0.31622777, 0.8       , 0.4472136 ,\n",
       "       0.51639778, 0.51639778, 0.51639778, 0.4472136 , 0.4       ,\n",
       "       0.31622777, 0.2       , 0.4472136 , 0.25819889, 0.51639778,\n",
       "       0.4472136 , 0.51639778, 0.4472136 , 0.51639778, 0.8       ,\n",
       "       0.4       , 0.18257419, 0.51639778, 0.18257419, 0.51639778,\n",
       "       0.4472136 , 0.51639778, 0.4472136 , 0.18257419, 0.51639778,\n",
       "       0.2236068 , 0.31622777, 0.31622777, 0.4472136 , 0.18257419,\n",
       "       0.2       , 0.2236068 , 0.51639778, 0.4472136 , 0.25819889,\n",
       "       0.4472136 , 0.4472136 , 0.4472136 , 0.4472136 , 0.8       ,\n",
       "       0.51639778, 0.51639778, 0.4472136 , 0.4       , 0.25819889,\n",
       "       0.51639778, 0.4       , 0.25819889, 0.4472136 , 0.4472136 ,\n",
       "       0.36514837, 0.2236068 , 0.4472136 , 0.51639778, 0.25819889,\n",
       "       0.51639778, 0.18257419, 0.51639778, 0.51639778, 0.51639778,\n",
       "       0.4472136 , 0.89442719, 0.51639778, 0.18257419, 0.4       ,\n",
       "       0.89442719, 0.4472136 , 0.51639778, 0.4472136 , 0.4472136 ,\n",
       "       0.4472136 , 0.4472136 , 0.31622777, 0.18257419, 0.4472136 ,\n",
       "       0.4472136 , 0.89442719, 0.25819889, 0.2236068 , 0.4472136 ,\n",
       "       0.4472136 , 0.51639778, 0.31622777, 0.4472136 , 0.2       ,\n",
       "       0.25819889, 0.31622777, 0.51639778, 0.8       , 0.4472136 ,\n",
       "       0.51639778, 0.4472136 , 0.25819889, 0.51639778, 0.8       ,\n",
       "       0.2236068 , 0.31622777, 0.2       , 0.4472136 , 0.4472136 ,\n",
       "       0.4472136 , 0.4472136 , 0.25819889, 0.4       , 0.51639778,\n",
       "       0.51639778, 0.25819889, 0.51639778, 0.4472136 , 0.25819889,\n",
       "       0.31622777, 0.4472136 , 0.89442719, 0.4472136 , 0.51639778,\n",
       "       0.4472136 , 0.25819889, 0.8       , 0.4472136 , 0.4472136 ,\n",
       "       0.51639778, 0.51639778, 0.31622777, 0.4472136 , 0.4       ,\n",
       "       0.4472136 , 0.51639778, 0.18257419, 0.4       , 0.8       ,\n",
       "       0.51639778, 0.2236068 , 0.2       , 0.51639778, 0.51639778,\n",
       "       0.8       , 0.2       , 0.51639778, 0.51639778, 0.31622777,\n",
       "       0.4472136 , 0.51639778, 0.4472136 , 0.25819889, 0.18257419,\n",
       "       0.4472136 , 0.89442719, 0.4       , 0.51639778, 0.51639778,\n",
       "       0.31622777, 0.18257419, 0.31622777, 0.51639778, 0.2236068 ,\n",
       "       0.51639778, 0.4       , 0.8       , 0.51639778, 0.51639778,\n",
       "       0.25819889, 0.31622777, 0.4472136 , 0.25819889, 0.25819889,\n",
       "       0.4472136 , 0.4       , 0.51639778, 0.4       , 0.2       ,\n",
       "       0.31622777, 0.31622777, 0.4472136 , 0.4472136 , 0.4472136 ,\n",
       "       0.89442719, 0.4472136 , 0.2236068 , 0.4472136 , 0.51639778,\n",
       "       0.25819889, 0.51639778, 0.2236068 , 0.4472136 , 0.89442719,\n",
       "       0.4       , 0.51639778, 0.4472136 , 0.4472136 , 0.4472136 ,\n",
       "       0.31622777, 0.4472136 , 0.8       , 0.4472136 , 0.51639778,\n",
       "       0.18257419, 0.51639778, 0.2       , 0.4       , 0.18257419,\n",
       "       0.2       , 0.51639778, 0.51639778, 0.4472136 , 0.4472136 ,\n",
       "       0.4472136 , 0.51639778, 0.31622777, 0.18257419, 0.4472136 ,\n",
       "       0.51639778, 0.8       , 0.4472136 , 0.4472136 , 0.51639778,\n",
       "       0.4472136 , 0.25819889, 0.4472136 , 0.2       , 0.25819889,\n",
       "       0.18257419, 0.25819889, 0.31622777, 0.31622777, 0.4472136 ,\n",
       "       0.4472136 , 0.4472136 , 0.4472136 , 0.4472136 , 0.4472136 ,\n",
       "       0.4472136 , 0.51639778, 0.18257419, 0.4472136 , 0.18257419,\n",
       "       0.25819889, 0.51639778, 0.25819889, 0.4472136 , 0.4       ,\n",
       "       0.89442719, 0.31622777, 0.51639778, 0.4472136 , 0.4472136 ,\n",
       "       0.51639778, 0.51639778, 0.4       , 0.2       , 0.51639778,\n",
       "       0.4472136 , 0.4472136 , 0.51639778, 0.4       , 0.2236068 ,\n",
       "       0.89442719, 0.31622777, 0.4       , 0.4472136 , 0.8       ,\n",
       "       0.4472136 , 0.4472136 , 0.25819889, 0.2236068 , 0.4472136 ,\n",
       "       0.4472136 , 0.51639778, 0.4472136 , 0.51639778, 0.51639778,\n",
       "       0.2236068 , 0.2236068 , 0.2236068 , 0.51639778, 0.4472136 ,\n",
       "       0.4472136 , 0.18257419, 0.4472136 , 0.4472136 , 0.51639778,\n",
       "       0.4472136 , 0.8       , 0.2       , 0.51639778, 0.25819889,\n",
       "       0.4472136 , 0.4472136 , 0.51639778, 0.18257419, 0.4472136 ,\n",
       "       0.31622777, 0.4472136 , 0.18257419, 0.4       , 0.4472136 ,\n",
       "       0.4       , 0.4472136 , 0.51639778, 0.51639778, 0.4472136 ,\n",
       "       0.4472136 , 0.25819889, 0.18257419, 0.4472136 , 0.4472136 ,\n",
       "       0.31622777, 0.31622777, 0.31622777, 0.31622777, 0.31622777,\n",
       "       0.4472136 , 0.51639778, 0.2236068 , 0.4472136 , 0.2236068 ,\n",
       "       0.2       , 0.31622777, 0.51639778, 0.18257419, 0.25819889,\n",
       "       0.51639778, 0.51639778, 0.18257419, 0.51639778, 0.4       ,\n",
       "       0.4472136 , 0.51639778, 0.4472136 , 0.4       , 0.31622777,\n",
       "       0.25819889, 0.51639778, 0.4472136 , 0.4472136 , 0.4       ,\n",
       "       0.25819889, 0.51639778, 0.31622777, 0.51639778, 0.4472136 ,\n",
       "       0.51639778, 0.51639778, 0.2       , 0.31622777, 0.4472136 ,\n",
       "       0.25819889, 0.4472136 , 0.51639778, 0.4472136 , 0.51639778,\n",
       "       0.4472136 , 0.18257419, 0.2       , 0.2236068 , 0.4472136 ,\n",
       "       0.51639778, 0.4472136 , 0.25819889, 0.4472136 , 0.51639778,\n",
       "       0.2236068 , 0.4472136 , 0.25819889, 0.2236068 , 0.31622777,\n",
       "       0.4472136 , 0.51639778, 0.31622777, 0.31622777, 0.4472136 ,\n",
       "       0.4472136 , 0.89442719, 0.51639778, 0.4472136 , 0.51639778,\n",
       "       0.4472136 , 0.4472136 , 0.51639778, 0.31622777, 0.51639778,\n",
       "       0.4472136 , 0.31622777, 0.51639778, 0.51639778, 0.89442719,\n",
       "       0.4472136 , 0.51639778, 0.31622777, 0.4472136 , 0.18257419,\n",
       "       0.4472136 , 0.2       , 0.2236068 , 0.4       , 0.2236068 ,\n",
       "       0.4472136 , 0.4472136 , 0.51639778, 0.4       , 0.4472136 ,\n",
       "       0.31622777, 0.25819889, 0.31622777, 0.25819889, 0.2236068 ,\n",
       "       0.4472136 , 0.2236068 , 0.51639778, 0.51639778, 0.4472136 ,\n",
       "       0.4472136 , 0.31622777, 0.2       , 0.4472136 , 0.4472136 ,\n",
       "       0.4472136 , 0.18257419, 0.4472136 , 0.4472136 , 0.18257419,\n",
       "       0.25819889, 0.31622777, 0.2236068 , 0.51639778, 0.4472136 ,\n",
       "       0.4472136 , 0.4472136 , 0.4472136 , 0.4472136 , 0.51639778,\n",
       "       0.51639778, 0.2236068 , 0.25819889, 0.4472136 , 0.4472136 ,\n",
       "       0.51639778, 0.4472136 , 0.25819889, 0.4472136 , 0.4472136 ,\n",
       "       0.18257419, 0.4472136 , 0.8       , 0.25819889, 0.51639778,\n",
       "       0.51639778, 0.4       , 0.4472136 , 0.31622777, 0.51639778,\n",
       "       0.51639778, 0.4472136 , 0.51639778, 0.25819889, 0.25819889,\n",
       "       0.51639778, 0.51639778, 0.2236068 , 0.51639778, 0.4       ,\n",
       "       0.4472136 , 0.18257419, 0.18257419, 0.89442719, 0.2       ,\n",
       "       0.4       , 0.31622777, 0.51639778, 0.2236068 , 0.51639778,\n",
       "       0.4472136 , 0.18257419, 0.4472136 , 0.4472136 , 0.4472136 ,\n",
       "       0.4472136 , 0.51639778, 0.2       , 0.51639778, 0.31622777,\n",
       "       0.51639778, 0.4472136 , 0.18257419, 0.4472136 , 0.2236068 ,\n",
       "       0.2236068 , 0.25819889, 0.89442719, 0.51639778, 0.51639778,\n",
       "       0.25819889, 0.4472136 , 0.51639778, 0.4472136 , 0.2236068 ,\n",
       "       0.4       , 0.31622777, 0.4472136 , 0.51639778, 0.18257419,\n",
       "       0.18257419, 0.51639778, 0.89442719, 0.25819889, 0.51639778,\n",
       "       0.4472136 , 0.51639778, 0.25819889, 0.2       , 0.4472136 ,\n",
       "       0.4472136 , 0.4472136 , 0.4472136 , 0.51639778, 0.51639778,\n",
       "       0.4       , 0.4472136 , 0.4472136 , 0.4472136 , 0.4       ,\n",
       "       0.51639778, 0.25819889, 0.4       , 0.18257419, 0.4472136 ,\n",
       "       0.25819889, 0.51639778, 0.31622777, 0.18257419, 0.31622777,\n",
       "       0.51639778, 0.25819889, 0.51639778, 0.25819889, 0.31622777,\n",
       "       0.4472136 , 0.2       , 0.8       , 0.25819889, 0.4472136 ,\n",
       "       0.4472136 , 0.4472136 , 0.51639778, 0.51639778, 0.51639778,\n",
       "       0.2236068 , 0.51639778, 0.4472136 , 0.4472136 , 0.2       ,\n",
       "       0.18257419, 0.4       , 0.4472136 , 0.4472136 , 0.4472136 ,\n",
       "       0.31622777, 0.2       , 0.4472136 , 0.4472136 , 0.31622777,\n",
       "       0.4       , 0.4472136 , 0.25819889, 0.25819889, 0.2236068 ,\n",
       "       0.51639778, 0.18257419, 0.4472136 , 0.51639778, 0.31622777,\n",
       "       0.51639778, 0.8       , 0.25819889, 0.51639778, 0.25819889,\n",
       "       0.4472136 , 0.25819889, 0.2236068 , 0.51639778, 0.4       ,\n",
       "       0.4472136 , 0.4472136 , 0.4472136 , 0.51639778, 0.4       ,\n",
       "       0.4       , 0.31622777, 0.4472136 , 0.4472136 , 0.4472136 ,\n",
       "       0.8       , 0.4472136 , 0.4472136 , 0.4       , 0.4472136 ,\n",
       "       0.51639778, 0.4472136 , 0.31622777, 0.4472136 , 0.25819889,\n",
       "       0.4472136 , 0.4472136 , 0.51639778, 0.4       , 0.18257419,\n",
       "       0.25819889, 0.4472136 , 0.18257419, 0.25819889, 0.2       ,\n",
       "       0.25819889, 0.4472136 , 0.4472136 , 0.8       , 0.51639778,\n",
       "       0.2236068 , 0.4472136 , 0.51639778, 0.51639778, 0.51639778,\n",
       "       0.8       , 0.31622777, 0.25819889, 0.31622777, 0.4472136 ,\n",
       "       0.51639778, 0.51639778, 0.4472136 , 0.18257419, 0.25819889,\n",
       "       0.2       , 0.51639778, 0.51639778, 0.51639778, 0.4472136 ,\n",
       "       0.4       , 0.4472136 , 0.4472136 , 0.4472136 , 0.25819889,\n",
       "       0.4472136 , 0.2       , 0.8       , 0.4472136 , 0.4472136 ,\n",
       "       0.4472136 , 0.31622777, 0.89442719, 0.25819889, 0.18257419,\n",
       "       0.18257419, 0.25819889, 0.25819889, 0.4472136 , 0.51639778,\n",
       "       0.4472136 , 0.4472136 , 0.51639778, 0.4472136 , 0.4       ,\n",
       "       0.2       , 0.51639778, 0.25819889, 0.25819889, 0.2       ,\n",
       "       0.4472136 , 0.4472136 , 0.25819889, 0.4472136 , 0.51639778,\n",
       "       0.25819889, 0.4472136 , 0.2236068 , 0.4       , 0.25819889,\n",
       "       0.4       , 0.4       , 0.51639778, 0.4472136 , 0.51639778,\n",
       "       0.4472136 , 0.2       , 0.51639778, 0.51639778, 0.51639778,\n",
       "       0.51639778, 0.4472136 , 0.4472136 , 0.2       , 0.4       ,\n",
       "       0.4472136 , 0.4472136 , 0.31622777, 0.8       , 0.51639778,\n",
       "       0.51639778, 0.4       , 0.4472136 , 0.4472136 , 0.51639778,\n",
       "       0.4472136 , 0.31622777, 0.51639778, 0.51639778, 0.18257419,\n",
       "       0.4       , 0.4       , 0.4472136 , 0.18257419, 0.51639778,\n",
       "       0.4472136 , 0.2       , 0.4472136 , 0.25819889, 0.4       ,\n",
       "       0.4472136 , 0.25819889, 0.51639778, 0.4472136 , 0.51639778,\n",
       "       0.51639778, 0.51639778, 0.18257419, 0.4472136 , 0.51639778,\n",
       "       0.31622777, 0.4472136 , 0.25819889, 0.4472136 , 0.31622777,\n",
       "       0.51639778, 0.51639778, 0.8       , 0.4472136 , 0.4472136 ,\n",
       "       0.31622777, 0.51639778, 0.4472136 , 0.51639778, 0.4472136 ,\n",
       "       0.4472136 , 0.51639778, 0.4472136 , 0.51639778, 0.4       ,\n",
       "       0.4472136 , 0.51639778, 0.4472136 , 0.4472136 , 0.4472136 ])"
      ]
     },
     "execution_count": 22,
     "metadata": {},
     "output_type": "execute_result"
    }
   ],
   "source": [
    "distances = similarity[book_index]\n",
    "distances"
   ]
  },
  {
   "cell_type": "code",
   "execution_count": 23,
   "id": "05b6de7c",
   "metadata": {},
   "outputs": [
    {
     "data": {
      "text/plain": [
       "[(0, 0.5163977794943223),\n",
       " (1, 0.9999999999999999),\n",
       " (2, 0.3162277660168379),\n",
       " (3, 0.3162277660168379),\n",
       " (4, 0.4472135954999579),\n",
       " (5, 0.19999999999999998),\n",
       " (6, 0.7999999999999999),\n",
       " (7, 0.5163977794943223),\n",
       " (8, 0.4472135954999579),\n",
       " (9, 0.3162277660168379)]"
      ]
     },
     "execution_count": 23,
     "metadata": {},
     "output_type": "execute_result"
    }
   ],
   "source": [
    "index_list = list(enumerate(distances))\n",
    "index_list[:10]"
   ]
  },
  {
   "cell_type": "code",
   "execution_count": 24,
   "id": "ccc60b32",
   "metadata": {},
   "outputs": [
    {
     "data": {
      "text/plain": [
       "[(18, 0.8944271909999159),\n",
       " (22, 0.8944271909999159),\n",
       " (33, 0.8944271909999159),\n",
       " (46, 0.8944271909999159),\n",
       " (64, 0.8944271909999159),\n",
       " (75, 0.8944271909999159),\n",
       " (104, 0.8944271909999159),\n",
       " (156, 0.8944271909999159),\n",
       " (230, 0.8944271909999159),\n",
       " (311, 0.8944271909999159)]"
      ]
     },
     "execution_count": 24,
     "metadata": {},
     "output_type": "execute_result"
    }
   ],
   "source": [
    "similar_books = sorted(index_list,reverse = True , key = lambda x: x[1])[1:11]\n",
    "similar_books"
   ]
  },
  {
   "cell_type": "markdown",
   "id": "056f5f5d",
   "metadata": {},
   "source": [
    "### Getting books title"
   ]
  },
  {
   "cell_type": "code",
   "execution_count": 25,
   "id": "89c054be",
   "metadata": {},
   "outputs": [
    {
     "name": "stdout",
     "output_type": "stream",
     "text": [
      "Why Does He Do That?: Inside the Minds of Angry and Controlling Men\n",
      "Scattered Minds: The Origins and Healing of Attention Deficit Disorder\n",
      "The Bullet Journal Method: Track the Past, Order the Present, Design the Future\n",
      "Drama Free: A Guide to Managing Unhealthy Family Relationships\n",
      "Too Good to Leave, Too Bad to Stay: A Step-by-Step Guide to Help You Decide Whether to Stay In or Get Out of Your Relationship\n",
      "The Book You Wish Your Parents Had Read: (And Your Children Will Be Glad That You Did)\n",
      "There Was a Little Girl: The Real Story of My Mother and Me\n",
      "Twelve Hours' Sleep by Twelve Weeks Old: A Step-by-Step Plan for Baby Sleep Success\n",
      "Psychopath Free (Expanded Edition): Recovering from Emotionally Abusive Relationships With Narcissists, Sociopaths, and Other Toxic People\n",
      "The Baby Sleep Solution: A Proven Program to Teach Your Baby to Sleep Twelve Hours aNight\n"
     ]
    }
   ],
   "source": [
    "for i in similar_books:\n",
    "    print(data.iloc[i[0]].title)"
   ]
  },
  {
   "cell_type": "markdown",
   "id": "a80e9e4f",
   "metadata": {},
   "source": [
    "### Making Function"
   ]
  },
  {
   "cell_type": "code",
   "execution_count": 26,
   "id": "d1e46ada",
   "metadata": {},
   "outputs": [],
   "source": [
    "def recommendation(book_name):\n",
    "    book_index = data[data['title']==book_name].index[0]\n",
    "    distances = similarity[book_index]\n",
    "    index_list = list(enumerate(distances))\n",
    "    similar_books = sorted(index_list,reverse=True,key = lambda x: x[1])[1:11]\n",
    "    for i in similar_books:\n",
    "        print(data.iloc[i[0]].title)"
   ]
  },
  {
   "cell_type": "code",
   "execution_count": 27,
   "id": "ace0725f",
   "metadata": {},
   "outputs": [
    {
     "name": "stdout",
     "output_type": "stream",
     "text": [
      "Why Does He Do That?: Inside the Minds of Angry and Controlling Men\n",
      "Scattered Minds: The Origins and Healing of Attention Deficit Disorder\n",
      "The Bullet Journal Method: Track the Past, Order the Present, Design the Future\n",
      "Drama Free: A Guide to Managing Unhealthy Family Relationships\n",
      "Too Good to Leave, Too Bad to Stay: A Step-by-Step Guide to Help You Decide Whether to Stay In or Get Out of Your Relationship\n",
      "The Book You Wish Your Parents Had Read: (And Your Children Will Be Glad That You Did)\n",
      "There Was a Little Girl: The Real Story of My Mother and Me\n",
      "Twelve Hours' Sleep by Twelve Weeks Old: A Step-by-Step Plan for Baby Sleep Success\n",
      "Psychopath Free (Expanded Edition): Recovering from Emotionally Abusive Relationships With Narcissists, Sociopaths, and Other Toxic People\n",
      "The Baby Sleep Solution: A Proven Program to Teach Your Baby to Sleep Twelve Hours aNight\n"
     ]
    }
   ],
   "source": [
    "recommendation('From Strength to Strength: Finding Success, Happiness, and Deep Purpose in the Second Half of Life')"
   ]
  },
  {
   "cell_type": "code",
   "execution_count": 28,
   "id": "2fa80eec",
   "metadata": {},
   "outputs": [
    {
     "name": "stdout",
     "output_type": "stream",
     "text": [
      "Unmasking Autism: Discovering the New Faces of Neurodiversity\n",
      "The Happiest Baby on the Block; Fully Revised and Updated Second Edition: The New Way to Calm Crying and Help Your Newborn Baby Sleep Longer\n",
      "The Return (Pulitzer Prize Winner): Fathers, Sons and the Land in Between\n",
      "Travelers to Unimaginable Lands: Stories of Dementia, the Caregiver, and the Human Brain\n",
      "The Happiest Toddler on the Block: How to Eliminate Tantrums and Raise a Patient, Respectful and Cooperative One- to Four-Year-Old: Revised Edition\n",
      "The Womanly Art of Breastfeeding: Completely Revised and Updated 8th Edition\n",
      "The Reason I Jump: The Inner Voice of a Thirteen-Year-Old Boy with Autism\n",
      "Queen Bees and Wannabes, 3rd Edition: Helping Your Daughter Survive Cliques, Gossip, Boys, and the New Realities of Girl World\n",
      "We Should Not Be Friends: The Story of a Friendship\n",
      "Dear Girls: Intimate Tales, Untold Secrets & Advice for Living Your Best Life\n"
     ]
    }
   ],
   "source": [
    "recommendation(\"Drama Free: A Guide to Managing Unhealthy Family Relationships\")"
   ]
  },
  {
   "cell_type": "code",
   "execution_count": 29,
   "id": "1c67e1e2",
   "metadata": {
    "scrolled": true
   },
   "outputs": [
    {
     "name": "stdout",
     "output_type": "stream",
     "text": [
      "The Happiest Baby on the Block; Fully Revised and Updated Second Edition: The New Way to Calm Crying and Help Your Newborn Baby Sleep Longer\n",
      "The Return (Pulitzer Prize Winner): Fathers, Sons and the Land in Between\n",
      "Travelers to Unimaginable Lands: Stories of Dementia, the Caregiver, and the Human Brain\n",
      "The Happiest Toddler on the Block: How to Eliminate Tantrums and Raise a Patient, Respectful and Cooperative One- to Four-Year-Old: Revised Edition\n",
      "The Womanly Art of Breastfeeding: Completely Revised and Updated 8th Edition\n",
      "The Reason I Jump: The Inner Voice of a Thirteen-Year-Old Boy with Autism\n",
      "Queen Bees and Wannabes, 3rd Edition: Helping Your Daughter Survive Cliques, Gossip, Boys, and the New Realities of Girl World\n",
      "We Should Not Be Friends: The Story of a Friendship\n",
      "Dear Girls: Intimate Tales, Untold Secrets & Advice for Living Your Best Life\n",
      "Sweet Sleep: Nighttime and Naptime Strategies for the Breastfeeding Family\n"
     ]
    }
   ],
   "source": [
    "recommendation(\"The Baby Sleep Solution: A Proven Program to Teach Your Baby to Sleep Twelve Hours aNight\")"
   ]
  },
  {
   "cell_type": "markdown",
   "id": "4cb24862",
   "metadata": {},
   "source": [
    "## Getting Image Url and Product URL of Recommended Books"
   ]
  },
  {
   "cell_type": "code",
   "execution_count": 30,
   "id": "59150a18",
   "metadata": {},
   "outputs": [],
   "source": [
    "def img_url(book_name):\n",
    "    url = df[df['title'] == book_name]\n",
    "    return url.iloc[0][['imgUrl','productURL']]\n",
    "    "
   ]
  },
  {
   "cell_type": "code",
   "execution_count": 31,
   "id": "dd12705c",
   "metadata": {},
   "outputs": [
    {
     "data": {
      "text/plain": [
       "imgUrl        https://m.media-amazon.com/images/I/A1LZcJFs9E...\n",
       "productURL                 https://www.amazon.com/dp/B08WCKY8MB\n",
       "Name: 1, dtype: object"
      ]
     },
     "execution_count": 31,
     "metadata": {},
     "output_type": "execute_result"
    }
   ],
   "source": [
    "img_url('From Strength to Strength: Finding Success, Happiness, and Deep Purpose in the Second Half of Life')"
   ]
  },
  {
   "cell_type": "code",
   "execution_count": 32,
   "id": "2d0e2baf",
   "metadata": {},
   "outputs": [],
   "source": [
    "def recommendation(book_name):\n",
    "    book_index = data[data['title']==book_name].index[0]\n",
    "    distances = similarity[book_index]\n",
    "    index_list = list(enumerate(distances))\n",
    "    similar_books = sorted(index_list,reverse=True,key = lambda x: x[1])[1:11]\n",
    "    \n",
    "    recomended_books = []\n",
    "    books_poster = []\n",
    "    \n",
    "    for i in similar_books:\n",
    "        recomended_books.append(data.iloc[i[0]].title)\n",
    "        books_poster.append(img_url(book_name))\n",
    "    return recomended_books,books_poster    "
   ]
  },
  {
   "cell_type": "code",
   "execution_count": 33,
   "id": "97653ead",
   "metadata": {},
   "outputs": [
    {
     "data": {
      "text/plain": [
       "(['Why Does He Do That?: Inside the Minds of Angry and Controlling Men',\n",
       "  'Scattered Minds: The Origins and Healing of Attention Deficit Disorder',\n",
       "  'The Bullet Journal Method: Track the Past, Order the Present, Design the Future',\n",
       "  'Drama Free: A Guide to Managing Unhealthy Family Relationships',\n",
       "  'Too Good to Leave, Too Bad to Stay: A Step-by-Step Guide to Help You Decide Whether to Stay In or Get Out of Your Relationship',\n",
       "  'The Book You Wish Your Parents Had Read: (And Your Children Will Be Glad That You Did)',\n",
       "  'There Was a Little Girl: The Real Story of My Mother and Me',\n",
       "  \"Twelve Hours' Sleep by Twelve Weeks Old: A Step-by-Step Plan for Baby Sleep Success\",\n",
       "  'Psychopath Free (Expanded Edition): Recovering from Emotionally Abusive Relationships With Narcissists, Sociopaths, and Other Toxic People',\n",
       "  'The Baby Sleep Solution: A Proven Program to Teach Your Baby to Sleep Twelve Hours aNight'],\n",
       " [imgUrl        https://m.media-amazon.com/images/I/A1LZcJFs9E...\n",
       "  productURL                 https://www.amazon.com/dp/B08WCKY8MB\n",
       "  Name: 1, dtype: object,\n",
       "  imgUrl        https://m.media-amazon.com/images/I/A1LZcJFs9E...\n",
       "  productURL                 https://www.amazon.com/dp/B08WCKY8MB\n",
       "  Name: 1, dtype: object,\n",
       "  imgUrl        https://m.media-amazon.com/images/I/A1LZcJFs9E...\n",
       "  productURL                 https://www.amazon.com/dp/B08WCKY8MB\n",
       "  Name: 1, dtype: object,\n",
       "  imgUrl        https://m.media-amazon.com/images/I/A1LZcJFs9E...\n",
       "  productURL                 https://www.amazon.com/dp/B08WCKY8MB\n",
       "  Name: 1, dtype: object,\n",
       "  imgUrl        https://m.media-amazon.com/images/I/A1LZcJFs9E...\n",
       "  productURL                 https://www.amazon.com/dp/B08WCKY8MB\n",
       "  Name: 1, dtype: object,\n",
       "  imgUrl        https://m.media-amazon.com/images/I/A1LZcJFs9E...\n",
       "  productURL                 https://www.amazon.com/dp/B08WCKY8MB\n",
       "  Name: 1, dtype: object,\n",
       "  imgUrl        https://m.media-amazon.com/images/I/A1LZcJFs9E...\n",
       "  productURL                 https://www.amazon.com/dp/B08WCKY8MB\n",
       "  Name: 1, dtype: object,\n",
       "  imgUrl        https://m.media-amazon.com/images/I/A1LZcJFs9E...\n",
       "  productURL                 https://www.amazon.com/dp/B08WCKY8MB\n",
       "  Name: 1, dtype: object,\n",
       "  imgUrl        https://m.media-amazon.com/images/I/A1LZcJFs9E...\n",
       "  productURL                 https://www.amazon.com/dp/B08WCKY8MB\n",
       "  Name: 1, dtype: object,\n",
       "  imgUrl        https://m.media-amazon.com/images/I/A1LZcJFs9E...\n",
       "  productURL                 https://www.amazon.com/dp/B08WCKY8MB\n",
       "  Name: 1, dtype: object])"
      ]
     },
     "execution_count": 33,
     "metadata": {},
     "output_type": "execute_result"
    }
   ],
   "source": [
    "recommendation('From Strength to Strength: Finding Success, Happiness, and Deep Purpose in the Second Half of Life')"
   ]
  },
  {
   "cell_type": "code",
   "execution_count": 34,
   "id": "4cbc42b2",
   "metadata": {},
   "outputs": [
    {
     "data": {
      "text/plain": [
       "(['Homecoming: Reclaiming and Healing Your Inner Child',\n",
       "  'Delivered from Distraction: Getting the Most out of Life with Attention Deficit Disorder',\n",
       "  'And Baby Makes Three: The Six-Step Plan for Preserving Marital Intimacy and Rekindling Romance After Baby Arrives',\n",
       "  'Unmasking Autism: Discovering the New Faces of Neurodiversity',\n",
       "  'The Happiest Baby on the Block; Fully Revised and Updated Second Edition: The New Way to Calm Crying and Help Your Newborn Baby Sleep Longer',\n",
       "  'The Return (Pulitzer Prize Winner): Fathers, Sons and the Land in Between',\n",
       "  'Travelers to Unimaginable Lands: Stories of Dementia, the Caregiver, and the Human Brain',\n",
       "  'The Happiest Toddler on the Block: How to Eliminate Tantrums and Raise a Patient, Respectful and Cooperative One- to Four-Year-Old: Revised Edition',\n",
       "  'The Womanly Art of Breastfeeding: Completely Revised and Updated 8th Edition',\n",
       "  'The Reason I Jump: The Inner Voice of a Thirteen-Year-Old Boy with Autism'],\n",
       " [imgUrl        https://m.media-amazon.com/images/I/813o4WOs+w...\n",
       "  productURL                 https://www.amazon.com/dp/B00N6PEQV0\n",
       "  Name: 4, dtype: object,\n",
       "  imgUrl        https://m.media-amazon.com/images/I/813o4WOs+w...\n",
       "  productURL                 https://www.amazon.com/dp/B00N6PEQV0\n",
       "  Name: 4, dtype: object,\n",
       "  imgUrl        https://m.media-amazon.com/images/I/813o4WOs+w...\n",
       "  productURL                 https://www.amazon.com/dp/B00N6PEQV0\n",
       "  Name: 4, dtype: object,\n",
       "  imgUrl        https://m.media-amazon.com/images/I/813o4WOs+w...\n",
       "  productURL                 https://www.amazon.com/dp/B00N6PEQV0\n",
       "  Name: 4, dtype: object,\n",
       "  imgUrl        https://m.media-amazon.com/images/I/813o4WOs+w...\n",
       "  productURL                 https://www.amazon.com/dp/B00N6PEQV0\n",
       "  Name: 4, dtype: object,\n",
       "  imgUrl        https://m.media-amazon.com/images/I/813o4WOs+w...\n",
       "  productURL                 https://www.amazon.com/dp/B00N6PEQV0\n",
       "  Name: 4, dtype: object,\n",
       "  imgUrl        https://m.media-amazon.com/images/I/813o4WOs+w...\n",
       "  productURL                 https://www.amazon.com/dp/B00N6PEQV0\n",
       "  Name: 4, dtype: object,\n",
       "  imgUrl        https://m.media-amazon.com/images/I/813o4WOs+w...\n",
       "  productURL                 https://www.amazon.com/dp/B00N6PEQV0\n",
       "  Name: 4, dtype: object,\n",
       "  imgUrl        https://m.media-amazon.com/images/I/813o4WOs+w...\n",
       "  productURL                 https://www.amazon.com/dp/B00N6PEQV0\n",
       "  Name: 4, dtype: object,\n",
       "  imgUrl        https://m.media-amazon.com/images/I/813o4WOs+w...\n",
       "  productURL                 https://www.amazon.com/dp/B00N6PEQV0\n",
       "  Name: 4, dtype: object])"
      ]
     },
     "execution_count": 34,
     "metadata": {},
     "output_type": "execute_result"
    }
   ],
   "source": [
    "recommendation(\"The Seven Principles for Making Marriage Work: A Practical Guide from the Country's Foremost Relationship Expert\")"
   ]
  },
  {
   "cell_type": "code",
   "execution_count": null,
   "id": "0fb3dfee",
   "metadata": {},
   "outputs": [],
   "source": []
  }
 ],
 "metadata": {
  "kernelspec": {
   "display_name": "Python 3 (ipykernel)",
   "language": "python",
   "name": "python3"
  },
  "language_info": {
   "codemirror_mode": {
    "name": "ipython",
    "version": 3
   },
   "file_extension": ".py",
   "mimetype": "text/x-python",
   "name": "python",
   "nbconvert_exporter": "python",
   "pygments_lexer": "ipython3",
   "version": "3.11.4"
  }
 },
 "nbformat": 4,
 "nbformat_minor": 5
}
